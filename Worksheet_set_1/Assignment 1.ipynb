{
 "cells": [
  {
   "cell_type": "code",
   "execution_count": 3,
   "id": "4a565ec5",
   "metadata": {},
   "outputs": [
    {
     "name": "stdout",
     "output_type": "stream",
     "text": [
      "5\n",
      "Factorial of 5 is 120\n"
     ]
    }
   ],
   "source": [
    "#Write a python program to find the factorial of a number\n",
    "def factorial(n):\n",
    "    return 1 if (n==1 or n==0) else n * factorial(n - 1);\n",
    " \n",
    "\n",
    "num = int(input());\n",
    "print(\"Factorial of\",num,\"is\",\n",
    "factorial(num))"
   ]
  },
  {
   "cell_type": "code",
   "execution_count": 6,
   "id": "a6414808",
   "metadata": {},
   "outputs": [
    {
     "name": "stdout",
     "output_type": "stream",
     "text": [
      "89\n",
      "89 is a composite number\n"
     ]
    }
   ],
   "source": [
    "#Write a python program to find whether a number is prime or composite. \n",
    "num=int(input())\n",
    "if num > 1:\n",
    "    if (num % 2) == 0:\n",
    "        print(num, \"is a prime number\")\n",
    "    else:\n",
    "        print(num, \"is a composite number\")"
   ]
  },
  {
   "cell_type": "code",
   "execution_count": 13,
   "id": "73f3697a",
   "metadata": {},
   "outputs": [
    {
     "name": "stdout",
     "output_type": "stream",
     "text": [
      "oho oho\n",
      "Yes is a palindrome\n"
     ]
    }
   ],
   "source": [
    "#Write a python program to check whether a given string is palindrome or not. \n",
    "s=input()\n",
    "\n",
    "def isPalindrome(s):\n",
    "    return s == s[::-1]\n",
    "ans = isPalindrome(s)\n",
    " \n",
    "if ans:\n",
    "    print(\"Yes is a palindrome\")\n",
    "else:\n",
    "    print(\"No is not a palindrome\")"
   ]
  },
  {
   "cell_type": "code",
   "execution_count": 15,
   "id": "d022b63a",
   "metadata": {},
   "outputs": [
    {
     "name": "stdout",
     "output_type": "stream",
     "text": [
      "Give side a: 4\n",
      "Give side b: 5\n",
      "The length of the hypotenuse c is 6.4031242374328485\n"
     ]
    }
   ],
   "source": [
    "#Write a Python program to get the third side of right-angled triangle from two given sides. \n",
    "import math\n",
    "a = float(input(\"Give side a: \"))\n",
    "b = float(input(\"Give side b: \"))\n",
    "c = math. sqrt(a ** 2 + b ** 2)\n",
    "print(f\"The length of the hypotenuse c is {c}\")"
   ]
  },
  {
   "cell_type": "code",
   "execution_count": 16,
   "id": "919eccad",
   "metadata": {},
   "outputs": [
    {
     "name": "stdout",
     "output_type": "stream",
     "text": [
      "mahamaya\n",
      "Count of all characters is :\n",
      " {'m': 2, 'a': 4, 'h': 1, 'y': 1}\n"
     ]
    }
   ],
   "source": [
    "#Write a python program to print the frequency of each of the characters present in a given string\n",
    "test_str = input()\n",
    "  \n",
    "all_freq = {}\n",
    "  \n",
    "for i in test_str:\n",
    "    if i in all_freq:\n",
    "        all_freq[i] += 1\n",
    "    else:\n",
    "        all_freq[i] = 1\n",
    "  \n",
    " \n",
    "print (\"Count of all characters is :\\n \" +  str(all_freq))\n"
   ]
  },
  {
   "cell_type": "code",
   "execution_count": null,
   "id": "6e804a31",
   "metadata": {},
   "outputs": [],
   "source": []
  }
 ],
 "metadata": {
  "kernelspec": {
   "display_name": "Python 3 (ipykernel)",
   "language": "python",
   "name": "python3"
  },
  "language_info": {
   "codemirror_mode": {
    "name": "ipython",
    "version": 3
   },
   "file_extension": ".py",
   "mimetype": "text/x-python",
   "name": "python",
   "nbconvert_exporter": "python",
   "pygments_lexer": "ipython3",
   "version": "3.9.7"
  }
 },
 "nbformat": 4,
 "nbformat_minor": 5
}
