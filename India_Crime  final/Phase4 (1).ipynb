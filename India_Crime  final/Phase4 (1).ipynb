{
 "cells": [
  {
   "cell_type": "code",
   "execution_count": 340,
   "id": "d9ec1342",
   "metadata": {},
   "outputs": [],
   "source": [
    "import pandas as pd\n",
    "import numpy as np\n",
    "import matplotlib.pyplot as plt\n",
    "%matplotlib inline\n",
    "import warnings\n",
    "warnings.filterwarnings('ignore')\n",
    "import seaborn as sns\n",
    "from sklearn.cluster import KMeans\n",
    "from sklearn import preprocessing\n",
    "from sklearn.preprocessing import MinMaxScaler"
   ]
  },
  {
   "cell_type": "code",
   "execution_count": 341,
   "id": "60e62873",
   "metadata": {},
   "outputs": [
    {
     "data": {
      "text/html": [
       "        <script type=\"text/javascript\">\n",
       "        window.PlotlyConfig = {MathJaxConfig: 'local'};\n",
       "        if (window.MathJax && window.MathJax.Hub && window.MathJax.Hub.Config) {window.MathJax.Hub.Config({SVG: {font: \"STIX-Web\"}});}\n",
       "        if (typeof require !== 'undefined') {\n",
       "        require.undef(\"plotly\");\n",
       "        requirejs.config({\n",
       "            paths: {\n",
       "                'plotly': ['https://cdn.plot.ly/plotly-2.12.1.min']\n",
       "            }\n",
       "        });\n",
       "        require(['plotly'], function(Plotly) {\n",
       "            window._Plotly = Plotly;\n",
       "        });\n",
       "        }\n",
       "        </script>\n",
       "        "
      ]
     },
     "metadata": {},
     "output_type": "display_data"
    }
   ],
   "source": [
    "from plotly.offline import download_plotlyjs, init_notebook_mode, plot, iplot\n",
    "import plotly.express as px\n",
    "import plotly.graph_objects as go\n",
    "import plotly.figure_factory as ff\n",
    "from plotly.colors import n_colors\n",
    "from plotly.subplots import make_subplots\n",
    "init_notebook_mode(connected=True)\n"
   ]
  },
  {
   "cell_type": "code",
   "execution_count": 342,
   "id": "7962b820",
   "metadata": {},
   "outputs": [
    {
     "data": {
      "text/html": [
       "<div>\n",
       "<style scoped>\n",
       "    .dataframe tbody tr th:only-of-type {\n",
       "        vertical-align: middle;\n",
       "    }\n",
       "\n",
       "    .dataframe tbody tr th {\n",
       "        vertical-align: top;\n",
       "    }\n",
       "\n",
       "    .dataframe thead th {\n",
       "        text-align: right;\n",
       "    }\n",
       "</style>\n",
       "<table border=\"1\" class=\"dataframe\">\n",
       "  <thead>\n",
       "    <tr style=\"text-align: right;\">\n",
       "      <th></th>\n",
       "      <th>STATE/UT</th>\n",
       "      <th>DISTRICT</th>\n",
       "      <th>YEAR</th>\n",
       "      <th>MURDER</th>\n",
       "      <th>RAPE</th>\n",
       "      <th>KIDNAPPING &amp; ABDUCTION</th>\n",
       "      <th>THEFT</th>\n",
       "      <th>TOTAL IPC CRIMES</th>\n",
       "    </tr>\n",
       "  </thead>\n",
       "  <tbody>\n",
       "    <tr>\n",
       "      <th>0</th>\n",
       "      <td>ANDHRA PRADESH</td>\n",
       "      <td>ADILABAD</td>\n",
       "      <td>2001</td>\n",
       "      <td>101</td>\n",
       "      <td>50</td>\n",
       "      <td>46</td>\n",
       "      <td>199</td>\n",
       "      <td>4154</td>\n",
       "    </tr>\n",
       "    <tr>\n",
       "      <th>1</th>\n",
       "      <td>ANDHRA PRADESH</td>\n",
       "      <td>ANANTAPUR</td>\n",
       "      <td>2001</td>\n",
       "      <td>151</td>\n",
       "      <td>23</td>\n",
       "      <td>53</td>\n",
       "      <td>366</td>\n",
       "      <td>4125</td>\n",
       "    </tr>\n",
       "    <tr>\n",
       "      <th>2</th>\n",
       "      <td>ANDHRA PRADESH</td>\n",
       "      <td>CHITTOOR</td>\n",
       "      <td>2001</td>\n",
       "      <td>101</td>\n",
       "      <td>27</td>\n",
       "      <td>59</td>\n",
       "      <td>723</td>\n",
       "      <td>5818</td>\n",
       "    </tr>\n",
       "    <tr>\n",
       "      <th>3</th>\n",
       "      <td>ANDHRA PRADESH</td>\n",
       "      <td>CUDDAPAH</td>\n",
       "      <td>2001</td>\n",
       "      <td>80</td>\n",
       "      <td>20</td>\n",
       "      <td>25</td>\n",
       "      <td>173</td>\n",
       "      <td>3140</td>\n",
       "    </tr>\n",
       "    <tr>\n",
       "      <th>4</th>\n",
       "      <td>ANDHRA PRADESH</td>\n",
       "      <td>EAST GODAVARI</td>\n",
       "      <td>2001</td>\n",
       "      <td>82</td>\n",
       "      <td>23</td>\n",
       "      <td>49</td>\n",
       "      <td>1021</td>\n",
       "      <td>6507</td>\n",
       "    </tr>\n",
       "    <tr>\n",
       "      <th>...</th>\n",
       "      <td>...</td>\n",
       "      <td>...</td>\n",
       "      <td>...</td>\n",
       "      <td>...</td>\n",
       "      <td>...</td>\n",
       "      <td>...</td>\n",
       "      <td>...</td>\n",
       "      <td>...</td>\n",
       "    </tr>\n",
       "    <tr>\n",
       "      <th>9012</th>\n",
       "      <td>LAKSHADWEEP</td>\n",
       "      <td>LAKSHADWEEP</td>\n",
       "      <td>2012</td>\n",
       "      <td>0</td>\n",
       "      <td>0</td>\n",
       "      <td>0</td>\n",
       "      <td>7</td>\n",
       "      <td>60</td>\n",
       "    </tr>\n",
       "    <tr>\n",
       "      <th>9013</th>\n",
       "      <td>LAKSHADWEEP</td>\n",
       "      <td>TOTAL</td>\n",
       "      <td>2012</td>\n",
       "      <td>0</td>\n",
       "      <td>0</td>\n",
       "      <td>0</td>\n",
       "      <td>7</td>\n",
       "      <td>60</td>\n",
       "    </tr>\n",
       "    <tr>\n",
       "      <th>9014</th>\n",
       "      <td>PUDUCHERRY</td>\n",
       "      <td>KARAIKAL</td>\n",
       "      <td>2012</td>\n",
       "      <td>5</td>\n",
       "      <td>6</td>\n",
       "      <td>2</td>\n",
       "      <td>81</td>\n",
       "      <td>787</td>\n",
       "    </tr>\n",
       "    <tr>\n",
       "      <th>9015</th>\n",
       "      <td>PUDUCHERRY</td>\n",
       "      <td>PUDUCHERRY</td>\n",
       "      <td>2012</td>\n",
       "      <td>24</td>\n",
       "      <td>7</td>\n",
       "      <td>17</td>\n",
       "      <td>577</td>\n",
       "      <td>3494</td>\n",
       "    </tr>\n",
       "    <tr>\n",
       "      <th>9016</th>\n",
       "      <td>PUDUCHERRY</td>\n",
       "      <td>TOTAL</td>\n",
       "      <td>2012</td>\n",
       "      <td>29</td>\n",
       "      <td>13</td>\n",
       "      <td>19</td>\n",
       "      <td>658</td>\n",
       "      <td>4281</td>\n",
       "    </tr>\n",
       "  </tbody>\n",
       "</table>\n",
       "<p>9017 rows × 8 columns</p>\n",
       "</div>"
      ],
      "text/plain": [
       "            STATE/UT       DISTRICT  YEAR  MURDER  RAPE  \\\n",
       "0     ANDHRA PRADESH       ADILABAD  2001     101    50   \n",
       "1     ANDHRA PRADESH      ANANTAPUR  2001     151    23   \n",
       "2     ANDHRA PRADESH       CHITTOOR  2001     101    27   \n",
       "3     ANDHRA PRADESH       CUDDAPAH  2001      80    20   \n",
       "4     ANDHRA PRADESH  EAST GODAVARI  2001      82    23   \n",
       "...              ...            ...   ...     ...   ...   \n",
       "9012     LAKSHADWEEP    LAKSHADWEEP  2012       0     0   \n",
       "9013     LAKSHADWEEP          TOTAL  2012       0     0   \n",
       "9014      PUDUCHERRY       KARAIKAL  2012       5     6   \n",
       "9015      PUDUCHERRY     PUDUCHERRY  2012      24     7   \n",
       "9016      PUDUCHERRY          TOTAL  2012      29    13   \n",
       "\n",
       "      KIDNAPPING & ABDUCTION  THEFT  TOTAL IPC CRIMES  \n",
       "0                         46    199              4154  \n",
       "1                         53    366              4125  \n",
       "2                         59    723              5818  \n",
       "3                         25    173              3140  \n",
       "4                         49   1021              6507  \n",
       "...                      ...    ...               ...  \n",
       "9012                       0      7                60  \n",
       "9013                       0      7                60  \n",
       "9014                       2     81               787  \n",
       "9015                      17    577              3494  \n",
       "9016                      19    658              4281  \n",
       "\n",
       "[9017 rows x 8 columns]"
      ]
     },
     "execution_count": 342,
     "metadata": {},
     "output_type": "execute_result"
    }
   ],
   "source": [
    "crime=pd.read_csv(\"phase 4.csv\")\n",
    "crime"
   ]
  },
  {
   "cell_type": "code",
   "execution_count": 343,
   "id": "b72f1cff",
   "metadata": {},
   "outputs": [
    {
     "data": {
      "text/plain": [
       "(9017, 8)"
      ]
     },
     "execution_count": 343,
     "metadata": {},
     "output_type": "execute_result"
    }
   ],
   "source": [
    "crime.shape"
   ]
  },
  {
   "cell_type": "code",
   "execution_count": 344,
   "id": "640ae2c5",
   "metadata": {},
   "outputs": [
    {
     "data": {
      "text/plain": [
       "Index(['STATE/UT', 'DISTRICT', 'YEAR', 'MURDER', 'RAPE',\n",
       "       'KIDNAPPING & ABDUCTION', 'THEFT', 'TOTAL IPC CRIMES'],\n",
       "      dtype='object')"
      ]
     },
     "execution_count": 344,
     "metadata": {},
     "output_type": "execute_result"
    }
   ],
   "source": [
    "crime.columns"
   ]
  },
  {
   "cell_type": "code",
   "execution_count": 345,
   "id": "1665ac3e",
   "metadata": {},
   "outputs": [
    {
     "name": "stdout",
     "output_type": "stream",
     "text": [
      "<class 'pandas.core.frame.DataFrame'>\n",
      "RangeIndex: 9017 entries, 0 to 9016\n",
      "Data columns (total 8 columns):\n",
      " #   Column                  Non-Null Count  Dtype \n",
      "---  ------                  --------------  ----- \n",
      " 0   STATE/UT                9017 non-null   object\n",
      " 1   DISTRICT                9017 non-null   object\n",
      " 2   YEAR                    9017 non-null   int64 \n",
      " 3   MURDER                  9017 non-null   int64 \n",
      " 4   RAPE                    9017 non-null   int64 \n",
      " 5   KIDNAPPING & ABDUCTION  9017 non-null   int64 \n",
      " 6   THEFT                   9017 non-null   int64 \n",
      " 7   TOTAL IPC CRIMES        9017 non-null   int64 \n",
      "dtypes: int64(6), object(2)\n",
      "memory usage: 563.7+ KB\n"
     ]
    }
   ],
   "source": [
    "crime.info()"
   ]
  },
  {
   "cell_type": "code",
   "execution_count": 346,
   "id": "988dd6d5",
   "metadata": {},
   "outputs": [
    {
     "data": {
      "text/plain": [
       "STATE/UT                  0\n",
       "DISTRICT                  0\n",
       "YEAR                      0\n",
       "MURDER                    0\n",
       "RAPE                      0\n",
       "KIDNAPPING & ABDUCTION    0\n",
       "THEFT                     0\n",
       "TOTAL IPC CRIMES          0\n",
       "dtype: int64"
      ]
     },
     "execution_count": 346,
     "metadata": {},
     "output_type": "execute_result"
    }
   ],
   "source": [
    "crime.isnull().sum()"
   ]
  },
  {
   "cell_type": "code",
   "execution_count": 347,
   "id": "f6cbcd3e",
   "metadata": {},
   "outputs": [
    {
     "data": {
      "text/html": [
       "<div>\n",
       "<style scoped>\n",
       "    .dataframe tbody tr th:only-of-type {\n",
       "        vertical-align: middle;\n",
       "    }\n",
       "\n",
       "    .dataframe tbody tr th {\n",
       "        vertical-align: top;\n",
       "    }\n",
       "\n",
       "    .dataframe thead th {\n",
       "        text-align: right;\n",
       "    }\n",
       "</style>\n",
       "<table border=\"1\" class=\"dataframe\">\n",
       "  <thead>\n",
       "    <tr style=\"text-align: right;\">\n",
       "      <th></th>\n",
       "      <th>YEAR</th>\n",
       "      <th>MURDER</th>\n",
       "      <th>RAPE</th>\n",
       "      <th>KIDNAPPING &amp; ABDUCTION</th>\n",
       "      <th>THEFT</th>\n",
       "      <th>TOTAL IPC CRIMES</th>\n",
       "    </tr>\n",
       "  </thead>\n",
       "  <tbody>\n",
       "    <tr>\n",
       "      <th>count</th>\n",
       "      <td>9017.000000</td>\n",
       "      <td>9017.00000</td>\n",
       "      <td>9017.000000</td>\n",
       "      <td>9017.000000</td>\n",
       "      <td>9017.000000</td>\n",
       "      <td>9017.000000</td>\n",
       "    </tr>\n",
       "    <tr>\n",
       "      <th>mean</th>\n",
       "      <td>2006.629034</td>\n",
       "      <td>89.28535</td>\n",
       "      <td>53.041366</td>\n",
       "      <td>79.152046</td>\n",
       "      <td>776.428968</td>\n",
       "      <td>5310.115116</td>\n",
       "    </tr>\n",
       "    <tr>\n",
       "      <th>std</th>\n",
       "      <td>3.463623</td>\n",
       "      <td>327.27503</td>\n",
       "      <td>190.741450</td>\n",
       "      <td>317.630964</td>\n",
       "      <td>2935.008640</td>\n",
       "      <td>18524.381119</td>\n",
       "    </tr>\n",
       "    <tr>\n",
       "      <th>min</th>\n",
       "      <td>2001.000000</td>\n",
       "      <td>0.00000</td>\n",
       "      <td>0.000000</td>\n",
       "      <td>0.000000</td>\n",
       "      <td>0.000000</td>\n",
       "      <td>0.000000</td>\n",
       "    </tr>\n",
       "    <tr>\n",
       "      <th>25%</th>\n",
       "      <td>2004.000000</td>\n",
       "      <td>18.00000</td>\n",
       "      <td>8.000000</td>\n",
       "      <td>10.000000</td>\n",
       "      <td>88.000000</td>\n",
       "      <td>853.000000</td>\n",
       "    </tr>\n",
       "    <tr>\n",
       "      <th>50%</th>\n",
       "      <td>2007.000000</td>\n",
       "      <td>38.00000</td>\n",
       "      <td>20.000000</td>\n",
       "      <td>25.000000</td>\n",
       "      <td>217.000000</td>\n",
       "      <td>2096.000000</td>\n",
       "    </tr>\n",
       "    <tr>\n",
       "      <th>75%</th>\n",
       "      <td>2010.000000</td>\n",
       "      <td>66.00000</td>\n",
       "      <td>41.000000</td>\n",
       "      <td>56.000000</td>\n",
       "      <td>466.000000</td>\n",
       "      <td>3972.000000</td>\n",
       "    </tr>\n",
       "    <tr>\n",
       "      <th>max</th>\n",
       "      <td>2012.000000</td>\n",
       "      <td>7601.00000</td>\n",
       "      <td>3425.000000</td>\n",
       "      <td>8878.000000</td>\n",
       "      <td>53449.000000</td>\n",
       "      <td>220335.000000</td>\n",
       "    </tr>\n",
       "  </tbody>\n",
       "</table>\n",
       "</div>"
      ],
      "text/plain": [
       "              YEAR      MURDER         RAPE  KIDNAPPING & ABDUCTION  \\\n",
       "count  9017.000000  9017.00000  9017.000000             9017.000000   \n",
       "mean   2006.629034    89.28535    53.041366               79.152046   \n",
       "std       3.463623   327.27503   190.741450              317.630964   \n",
       "min    2001.000000     0.00000     0.000000                0.000000   \n",
       "25%    2004.000000    18.00000     8.000000               10.000000   \n",
       "50%    2007.000000    38.00000    20.000000               25.000000   \n",
       "75%    2010.000000    66.00000    41.000000               56.000000   \n",
       "max    2012.000000  7601.00000  3425.000000             8878.000000   \n",
       "\n",
       "              THEFT  TOTAL IPC CRIMES  \n",
       "count   9017.000000       9017.000000  \n",
       "mean     776.428968       5310.115116  \n",
       "std     2935.008640      18524.381119  \n",
       "min        0.000000          0.000000  \n",
       "25%       88.000000        853.000000  \n",
       "50%      217.000000       2096.000000  \n",
       "75%      466.000000       3972.000000  \n",
       "max    53449.000000     220335.000000  "
      ]
     },
     "execution_count": 347,
     "metadata": {},
     "output_type": "execute_result"
    }
   ],
   "source": [
    "crime.describe()"
   ]
  },
  {
   "cell_type": "code",
   "execution_count": 348,
   "id": "e3cedb8b",
   "metadata": {},
   "outputs": [
    {
     "data": {
      "text/html": [
       "<div>\n",
       "<style scoped>\n",
       "    .dataframe tbody tr th:only-of-type {\n",
       "        vertical-align: middle;\n",
       "    }\n",
       "\n",
       "    .dataframe tbody tr th {\n",
       "        vertical-align: top;\n",
       "    }\n",
       "\n",
       "    .dataframe thead th {\n",
       "        text-align: right;\n",
       "    }\n",
       "</style>\n",
       "<table border=\"1\" class=\"dataframe\">\n",
       "  <thead>\n",
       "    <tr style=\"text-align: right;\">\n",
       "      <th></th>\n",
       "      <th>STATE/UT</th>\n",
       "      <th>DISTRICT</th>\n",
       "      <th>YEAR</th>\n",
       "      <th>MURDER</th>\n",
       "      <th>RAPE</th>\n",
       "      <th>KIDNAPPING &amp; ABDUCTION</th>\n",
       "      <th>THEFT</th>\n",
       "      <th>TOTAL IPC CRIMES</th>\n",
       "    </tr>\n",
       "  </thead>\n",
       "  <tbody>\n",
       "    <tr>\n",
       "      <th>0</th>\n",
       "      <td>ANDHRA PRADESH</td>\n",
       "      <td>ADILABAD</td>\n",
       "      <td>2001</td>\n",
       "      <td>101</td>\n",
       "      <td>50</td>\n",
       "      <td>46</td>\n",
       "      <td>199</td>\n",
       "      <td>4154</td>\n",
       "    </tr>\n",
       "    <tr>\n",
       "      <th>1</th>\n",
       "      <td>ANDHRA PRADESH</td>\n",
       "      <td>ANANTAPUR</td>\n",
       "      <td>2001</td>\n",
       "      <td>151</td>\n",
       "      <td>23</td>\n",
       "      <td>53</td>\n",
       "      <td>366</td>\n",
       "      <td>4125</td>\n",
       "    </tr>\n",
       "    <tr>\n",
       "      <th>2</th>\n",
       "      <td>ANDHRA PRADESH</td>\n",
       "      <td>CHITTOOR</td>\n",
       "      <td>2001</td>\n",
       "      <td>101</td>\n",
       "      <td>27</td>\n",
       "      <td>59</td>\n",
       "      <td>723</td>\n",
       "      <td>5818</td>\n",
       "    </tr>\n",
       "    <tr>\n",
       "      <th>3</th>\n",
       "      <td>ANDHRA PRADESH</td>\n",
       "      <td>CUDDAPAH</td>\n",
       "      <td>2001</td>\n",
       "      <td>80</td>\n",
       "      <td>20</td>\n",
       "      <td>25</td>\n",
       "      <td>173</td>\n",
       "      <td>3140</td>\n",
       "    </tr>\n",
       "    <tr>\n",
       "      <th>4</th>\n",
       "      <td>ANDHRA PRADESH</td>\n",
       "      <td>EAST GODAVARI</td>\n",
       "      <td>2001</td>\n",
       "      <td>82</td>\n",
       "      <td>23</td>\n",
       "      <td>49</td>\n",
       "      <td>1021</td>\n",
       "      <td>6507</td>\n",
       "    </tr>\n",
       "    <tr>\n",
       "      <th>...</th>\n",
       "      <td>...</td>\n",
       "      <td>...</td>\n",
       "      <td>...</td>\n",
       "      <td>...</td>\n",
       "      <td>...</td>\n",
       "      <td>...</td>\n",
       "      <td>...</td>\n",
       "      <td>...</td>\n",
       "    </tr>\n",
       "    <tr>\n",
       "      <th>9010</th>\n",
       "      <td>DELHI UT</td>\n",
       "      <td>STF</td>\n",
       "      <td>2012</td>\n",
       "      <td>0</td>\n",
       "      <td>0</td>\n",
       "      <td>0</td>\n",
       "      <td>0</td>\n",
       "      <td>6</td>\n",
       "    </tr>\n",
       "    <tr>\n",
       "      <th>9011</th>\n",
       "      <td>DELHI UT</td>\n",
       "      <td>WEST</td>\n",
       "      <td>2012</td>\n",
       "      <td>52</td>\n",
       "      <td>79</td>\n",
       "      <td>454</td>\n",
       "      <td>2352</td>\n",
       "      <td>5558</td>\n",
       "    </tr>\n",
       "    <tr>\n",
       "      <th>9012</th>\n",
       "      <td>LAKSHADWEEP</td>\n",
       "      <td>LAKSHADWEEP</td>\n",
       "      <td>2012</td>\n",
       "      <td>0</td>\n",
       "      <td>0</td>\n",
       "      <td>0</td>\n",
       "      <td>7</td>\n",
       "      <td>60</td>\n",
       "    </tr>\n",
       "    <tr>\n",
       "      <th>9014</th>\n",
       "      <td>PUDUCHERRY</td>\n",
       "      <td>KARAIKAL</td>\n",
       "      <td>2012</td>\n",
       "      <td>5</td>\n",
       "      <td>6</td>\n",
       "      <td>2</td>\n",
       "      <td>81</td>\n",
       "      <td>787</td>\n",
       "    </tr>\n",
       "    <tr>\n",
       "      <th>9015</th>\n",
       "      <td>PUDUCHERRY</td>\n",
       "      <td>PUDUCHERRY</td>\n",
       "      <td>2012</td>\n",
       "      <td>24</td>\n",
       "      <td>7</td>\n",
       "      <td>17</td>\n",
       "      <td>577</td>\n",
       "      <td>3494</td>\n",
       "    </tr>\n",
       "  </tbody>\n",
       "</table>\n",
       "<p>8609 rows × 8 columns</p>\n",
       "</div>"
      ],
      "text/plain": [
       "            STATE/UT       DISTRICT  YEAR  MURDER  RAPE  \\\n",
       "0     ANDHRA PRADESH       ADILABAD  2001     101    50   \n",
       "1     ANDHRA PRADESH      ANANTAPUR  2001     151    23   \n",
       "2     ANDHRA PRADESH       CHITTOOR  2001     101    27   \n",
       "3     ANDHRA PRADESH       CUDDAPAH  2001      80    20   \n",
       "4     ANDHRA PRADESH  EAST GODAVARI  2001      82    23   \n",
       "...              ...            ...   ...     ...   ...   \n",
       "9010        DELHI UT            STF  2012       0     0   \n",
       "9011        DELHI UT           WEST  2012      52    79   \n",
       "9012     LAKSHADWEEP    LAKSHADWEEP  2012       0     0   \n",
       "9014      PUDUCHERRY       KARAIKAL  2012       5     6   \n",
       "9015      PUDUCHERRY     PUDUCHERRY  2012      24     7   \n",
       "\n",
       "      KIDNAPPING & ABDUCTION  THEFT  TOTAL IPC CRIMES  \n",
       "0                         46    199              4154  \n",
       "1                         53    366              4125  \n",
       "2                         59    723              5818  \n",
       "3                         25    173              3140  \n",
       "4                         49   1021              6507  \n",
       "...                      ...    ...               ...  \n",
       "9010                       0      0                 6  \n",
       "9011                     454   2352              5558  \n",
       "9012                       0      7                60  \n",
       "9014                       2     81               787  \n",
       "9015                      17    577              3494  \n",
       "\n",
       "[8609 rows x 8 columns]"
      ]
     },
     "execution_count": 348,
     "metadata": {},
     "output_type": "execute_result"
    }
   ],
   "source": [
    "index_name=crime[crime['DISTRICT']=='TOTAL'].index #dropping the DISTRICT WHICH SHOWS VALUE AS TOTAL\n",
    "crime.drop(index_name, inplace=True)\n",
    "crime"
   ]
  },
  {
   "cell_type": "code",
   "execution_count": 349,
   "id": "cf8a45f4",
   "metadata": {},
   "outputs": [],
   "source": [
    "features=['YEAR','MURDER','RAPE','THEFT','KIDNAPPING & ABDUCTION']"
   ]
  },
  {
   "cell_type": "code",
   "execution_count": 350,
   "id": "69567040",
   "metadata": {},
   "outputs": [
    {
     "data": {
      "text/html": [
       "<div>\n",
       "<style scoped>\n",
       "    .dataframe tbody tr th:only-of-type {\n",
       "        vertical-align: middle;\n",
       "    }\n",
       "\n",
       "    .dataframe tbody tr th {\n",
       "        vertical-align: top;\n",
       "    }\n",
       "\n",
       "    .dataframe thead th {\n",
       "        text-align: right;\n",
       "    }\n",
       "</style>\n",
       "<table border=\"1\" class=\"dataframe\">\n",
       "  <thead>\n",
       "    <tr style=\"text-align: right;\">\n",
       "      <th></th>\n",
       "      <th>YEAR</th>\n",
       "      <th>MURDER</th>\n",
       "      <th>RAPE</th>\n",
       "      <th>THEFT</th>\n",
       "      <th>KIDNAPPING &amp; ABDUCTION</th>\n",
       "    </tr>\n",
       "  </thead>\n",
       "  <tbody>\n",
       "    <tr>\n",
       "      <th>0</th>\n",
       "      <td>2001</td>\n",
       "      <td>101</td>\n",
       "      <td>50</td>\n",
       "      <td>199</td>\n",
       "      <td>46</td>\n",
       "    </tr>\n",
       "    <tr>\n",
       "      <th>1</th>\n",
       "      <td>2001</td>\n",
       "      <td>151</td>\n",
       "      <td>23</td>\n",
       "      <td>366</td>\n",
       "      <td>53</td>\n",
       "    </tr>\n",
       "    <tr>\n",
       "      <th>2</th>\n",
       "      <td>2001</td>\n",
       "      <td>101</td>\n",
       "      <td>27</td>\n",
       "      <td>723</td>\n",
       "      <td>59</td>\n",
       "    </tr>\n",
       "    <tr>\n",
       "      <th>3</th>\n",
       "      <td>2001</td>\n",
       "      <td>80</td>\n",
       "      <td>20</td>\n",
       "      <td>173</td>\n",
       "      <td>25</td>\n",
       "    </tr>\n",
       "    <tr>\n",
       "      <th>4</th>\n",
       "      <td>2001</td>\n",
       "      <td>82</td>\n",
       "      <td>23</td>\n",
       "      <td>1021</td>\n",
       "      <td>49</td>\n",
       "    </tr>\n",
       "    <tr>\n",
       "      <th>...</th>\n",
       "      <td>...</td>\n",
       "      <td>...</td>\n",
       "      <td>...</td>\n",
       "      <td>...</td>\n",
       "      <td>...</td>\n",
       "    </tr>\n",
       "    <tr>\n",
       "      <th>9010</th>\n",
       "      <td>2012</td>\n",
       "      <td>0</td>\n",
       "      <td>0</td>\n",
       "      <td>0</td>\n",
       "      <td>0</td>\n",
       "    </tr>\n",
       "    <tr>\n",
       "      <th>9011</th>\n",
       "      <td>2012</td>\n",
       "      <td>52</td>\n",
       "      <td>79</td>\n",
       "      <td>2352</td>\n",
       "      <td>454</td>\n",
       "    </tr>\n",
       "    <tr>\n",
       "      <th>9012</th>\n",
       "      <td>2012</td>\n",
       "      <td>0</td>\n",
       "      <td>0</td>\n",
       "      <td>7</td>\n",
       "      <td>0</td>\n",
       "    </tr>\n",
       "    <tr>\n",
       "      <th>9014</th>\n",
       "      <td>2012</td>\n",
       "      <td>5</td>\n",
       "      <td>6</td>\n",
       "      <td>81</td>\n",
       "      <td>2</td>\n",
       "    </tr>\n",
       "    <tr>\n",
       "      <th>9015</th>\n",
       "      <td>2012</td>\n",
       "      <td>24</td>\n",
       "      <td>7</td>\n",
       "      <td>577</td>\n",
       "      <td>17</td>\n",
       "    </tr>\n",
       "  </tbody>\n",
       "</table>\n",
       "<p>8609 rows × 5 columns</p>\n",
       "</div>"
      ],
      "text/plain": [
       "      YEAR  MURDER  RAPE  THEFT  KIDNAPPING & ABDUCTION\n",
       "0     2001     101    50    199                      46\n",
       "1     2001     151    23    366                      53\n",
       "2     2001     101    27    723                      59\n",
       "3     2001      80    20    173                      25\n",
       "4     2001      82    23   1021                      49\n",
       "...    ...     ...   ...    ...                     ...\n",
       "9010  2012       0     0      0                       0\n",
       "9011  2012      52    79   2352                     454\n",
       "9012  2012       0     0      7                       0\n",
       "9014  2012       5     6     81                       2\n",
       "9015  2012      24     7    577                      17\n",
       "\n",
       "[8609 rows x 5 columns]"
      ]
     },
     "execution_count": 350,
     "metadata": {},
     "output_type": "execute_result"
    }
   ],
   "source": [
    "crime=crime[features].copy()\n",
    "crime"
   ]
  },
  {
   "cell_type": "code",
   "execution_count": 351,
   "id": "ef1d0b5f",
   "metadata": {},
   "outputs": [
    {
     "name": "stdout",
     "output_type": "stream",
     "text": [
      "[[-1.62684555  1.15834478  0.59007973 -0.22252755  0.01610873]\n",
      " [-1.62684555  2.24048826 -0.15177026 -0.06405962  0.08508417]\n",
      " [-1.62684555  1.15834478 -0.04186656  0.27470117  0.14420598]\n",
      " ...\n",
      " [ 1.54881143 -1.02758504 -0.78371655 -0.40471823 -0.43715845]\n",
      " [ 1.54881143 -0.9193707  -0.61886099 -0.33449891 -0.41745118]\n",
      " [ 1.54881143 -0.50815617 -0.59138507  0.13616034 -0.26964667]]\n"
     ]
    },
    {
     "data": {
      "text/html": [
       "<div>\n",
       "<style scoped>\n",
       "    .dataframe tbody tr th:only-of-type {\n",
       "        vertical-align: middle;\n",
       "    }\n",
       "\n",
       "    .dataframe tbody tr th {\n",
       "        vertical-align: top;\n",
       "    }\n",
       "\n",
       "    .dataframe thead th {\n",
       "        text-align: right;\n",
       "    }\n",
       "</style>\n",
       "<table border=\"1\" class=\"dataframe\">\n",
       "  <thead>\n",
       "    <tr style=\"text-align: right;\">\n",
       "      <th></th>\n",
       "      <th>0</th>\n",
       "      <th>1</th>\n",
       "      <th>2</th>\n",
       "      <th>3</th>\n",
       "      <th>4</th>\n",
       "    </tr>\n",
       "  </thead>\n",
       "  <tbody>\n",
       "    <tr>\n",
       "      <th>0</th>\n",
       "      <td>-1.626846</td>\n",
       "      <td>1.158345</td>\n",
       "      <td>0.590080</td>\n",
       "      <td>-0.222528</td>\n",
       "      <td>0.016109</td>\n",
       "    </tr>\n",
       "    <tr>\n",
       "      <th>1</th>\n",
       "      <td>-1.626846</td>\n",
       "      <td>2.240488</td>\n",
       "      <td>-0.151770</td>\n",
       "      <td>-0.064060</td>\n",
       "      <td>0.085084</td>\n",
       "    </tr>\n",
       "    <tr>\n",
       "      <th>2</th>\n",
       "      <td>-1.626846</td>\n",
       "      <td>1.158345</td>\n",
       "      <td>-0.041867</td>\n",
       "      <td>0.274701</td>\n",
       "      <td>0.144206</td>\n",
       "    </tr>\n",
       "    <tr>\n",
       "      <th>3</th>\n",
       "      <td>-1.626846</td>\n",
       "      <td>0.703845</td>\n",
       "      <td>-0.234198</td>\n",
       "      <td>-0.247199</td>\n",
       "      <td>-0.190818</td>\n",
       "    </tr>\n",
       "    <tr>\n",
       "      <th>4</th>\n",
       "      <td>-1.626846</td>\n",
       "      <td>0.747130</td>\n",
       "      <td>-0.151770</td>\n",
       "      <td>0.557476</td>\n",
       "      <td>0.045670</td>\n",
       "    </tr>\n",
       "    <tr>\n",
       "      <th>...</th>\n",
       "      <td>...</td>\n",
       "      <td>...</td>\n",
       "      <td>...</td>\n",
       "      <td>...</td>\n",
       "      <td>...</td>\n",
       "    </tr>\n",
       "    <tr>\n",
       "      <th>8604</th>\n",
       "      <td>1.548811</td>\n",
       "      <td>-1.027585</td>\n",
       "      <td>-0.783717</td>\n",
       "      <td>-0.411361</td>\n",
       "      <td>-0.437158</td>\n",
       "    </tr>\n",
       "    <tr>\n",
       "      <th>8605</th>\n",
       "      <td>1.548811</td>\n",
       "      <td>0.097844</td>\n",
       "      <td>1.386882</td>\n",
       "      <td>1.820475</td>\n",
       "      <td>4.036392</td>\n",
       "    </tr>\n",
       "    <tr>\n",
       "      <th>8606</th>\n",
       "      <td>1.548811</td>\n",
       "      <td>-1.027585</td>\n",
       "      <td>-0.783717</td>\n",
       "      <td>-0.404718</td>\n",
       "      <td>-0.437158</td>\n",
       "    </tr>\n",
       "    <tr>\n",
       "      <th>8607</th>\n",
       "      <td>1.548811</td>\n",
       "      <td>-0.919371</td>\n",
       "      <td>-0.618861</td>\n",
       "      <td>-0.334499</td>\n",
       "      <td>-0.417451</td>\n",
       "    </tr>\n",
       "    <tr>\n",
       "      <th>8608</th>\n",
       "      <td>1.548811</td>\n",
       "      <td>-0.508156</td>\n",
       "      <td>-0.591385</td>\n",
       "      <td>0.136160</td>\n",
       "      <td>-0.269647</td>\n",
       "    </tr>\n",
       "  </tbody>\n",
       "</table>\n",
       "<p>8609 rows × 5 columns</p>\n",
       "</div>"
      ],
      "text/plain": [
       "             0         1         2         3         4\n",
       "0    -1.626846  1.158345  0.590080 -0.222528  0.016109\n",
       "1    -1.626846  2.240488 -0.151770 -0.064060  0.085084\n",
       "2    -1.626846  1.158345 -0.041867  0.274701  0.144206\n",
       "3    -1.626846  0.703845 -0.234198 -0.247199 -0.190818\n",
       "4    -1.626846  0.747130 -0.151770  0.557476  0.045670\n",
       "...        ...       ...       ...       ...       ...\n",
       "8604  1.548811 -1.027585 -0.783717 -0.411361 -0.437158\n",
       "8605  1.548811  0.097844  1.386882  1.820475  4.036392\n",
       "8606  1.548811 -1.027585 -0.783717 -0.404718 -0.437158\n",
       "8607  1.548811 -0.919371 -0.618861 -0.334499 -0.417451\n",
       "8608  1.548811 -0.508156 -0.591385  0.136160 -0.269647\n",
       "\n",
       "[8609 rows x 5 columns]"
      ]
     },
     "execution_count": 351,
     "metadata": {},
     "output_type": "execute_result"
    }
   ],
   "source": [
    "df_crime=preprocessing.scale(crime)\n",
    "print(df_crime)\n",
    "df_crime=pd.DataFrame(df_standardize)\n",
    "df_crime"
   ]
  },
  {
   "cell_type": "code",
   "execution_count": 352,
   "id": "57c402be",
   "metadata": {},
   "outputs": [
    {
     "data": {
      "text/plain": [
       "<Figure size 432x288 with 0 Axes>"
      ]
     },
     "metadata": {},
     "output_type": "display_data"
    }
   ],
   "source": [
    "plt.figure(figsize=(6,4))\n",
    "wcss=[]\n",
    "for i in range(1,11):\n",
    "    kmeans=KMeans(n_clusters=i,init='random',random_state=42)\n",
    "    kmeans.fit(df_crime)\n",
    "    wcss.append(kmeans.inertia_)\n"
   ]
  },
  {
   "cell_type": "code",
   "execution_count": 353,
   "id": "9d578cfb",
   "metadata": {},
   "outputs": [
    {
     "data": {
      "image/png": "[encoded data removed]",
      "text/plain": [
       "<Figure size 432x288 with 1 Axes>"
      ]
     },
     "metadata": {},
     "output_type": "display_data"
    }
   ],
   "source": [
    "sns.set()\n",
    "plt.plot(range(1,11), wcss)\n",
    "plt.title('The Elbow Point Graph')\n",
    "plt.xlabel('Number of Clusters')\n",
    "plt.ylabel('WCSS')\n",
    "plt.show()"
   ]
  },
  {
   "cell_type": "markdown",
   "id": "da48c74d",
   "metadata": {},
   "source": [
    "optimum clusters = 3"
   ]
  },
  {
   "cell_type": "code",
   "execution_count": 360,
   "id": "8d71ec81",
   "metadata": {},
   "outputs": [
    {
     "data": {
      "text/plain": [
       "array([3, 3, 3, ..., 2, 2, 2])"
      ]
     },
     "execution_count": 360,
     "metadata": {},
     "output_type": "execute_result"
    }
   ],
   "source": [
    "kmeans = KMeans(n_clusters=4, init='k-means++', random_state=0)\n",
    "\n",
    "# return a label for each data point based on their cluster\n",
    "Y = kmeans.fit_predict(df_crime)\n",
    "\n",
    "Y"
   ]
  },
  {
   "cell_type": "code",
   "execution_count": 361,
   "id": "ea288b89",
   "metadata": {},
   "outputs": [],
   "source": [
    "y_kmeans1=Y+1\n",
    "cluster=list(y_kmeans1)\n",
    "crime['cluster']=cluster"
   ]
  },
  {
   "cell_type": "code",
   "execution_count": 362,
   "id": "caeaac1f",
   "metadata": {},
   "outputs": [
    {
     "data": {
      "text/html": [
       "<div>\n",
       "<style scoped>\n",
       "    .dataframe tbody tr th:only-of-type {\n",
       "        vertical-align: middle;\n",
       "    }\n",
       "\n",
       "    .dataframe tbody tr th {\n",
       "        vertical-align: top;\n",
       "    }\n",
       "\n",
       "    .dataframe thead th {\n",
       "        text-align: right;\n",
       "    }\n",
       "</style>\n",
       "<table border=\"1\" class=\"dataframe\">\n",
       "  <thead>\n",
       "    <tr style=\"text-align: right;\">\n",
       "      <th></th>\n",
       "      <th>YEAR</th>\n",
       "      <th>MURDER</th>\n",
       "      <th>RAPE</th>\n",
       "      <th>THEFT</th>\n",
       "      <th>KIDNAPPING &amp; ABDUCTION</th>\n",
       "    </tr>\n",
       "    <tr>\n",
       "      <th>cluster</th>\n",
       "      <th></th>\n",
       "      <th></th>\n",
       "      <th></th>\n",
       "      <th></th>\n",
       "      <th></th>\n",
       "    </tr>\n",
       "  </thead>\n",
       "  <tbody>\n",
       "    <tr>\n",
       "      <th>1</th>\n",
       "      <td>2007.1</td>\n",
       "      <td>119.5</td>\n",
       "      <td>72.8</td>\n",
       "      <td>1357.2</td>\n",
       "      <td>127.0</td>\n",
       "    </tr>\n",
       "    <tr>\n",
       "      <th>2</th>\n",
       "      <td>2006.5</td>\n",
       "      <td>517.1</td>\n",
       "      <td>535.3</td>\n",
       "      <td>19295.5</td>\n",
       "      <td>2090.2</td>\n",
       "    </tr>\n",
       "    <tr>\n",
       "      <th>3</th>\n",
       "      <td>2009.6</td>\n",
       "      <td>33.5</td>\n",
       "      <td>22.1</td>\n",
       "      <td>268.0</td>\n",
       "      <td>32.7</td>\n",
       "    </tr>\n",
       "    <tr>\n",
       "      <th>4</th>\n",
       "      <td>2003.5</td>\n",
       "      <td>38.0</td>\n",
       "      <td>19.7</td>\n",
       "      <td>255.4</td>\n",
       "      <td>24.0</td>\n",
       "    </tr>\n",
       "  </tbody>\n",
       "</table>\n",
       "</div>"
      ],
      "text/plain": [
       "           YEAR  MURDER   RAPE    THEFT  KIDNAPPING & ABDUCTION\n",
       "cluster                                                        \n",
       "1        2007.1   119.5   72.8   1357.2                   127.0\n",
       "2        2006.5   517.1  535.3  19295.5                  2090.2\n",
       "3        2009.6    33.5   22.1    268.0                    32.7\n",
       "4        2003.5    38.0   19.7    255.4                    24.0"
      ]
     },
     "execution_count": 362,
     "metadata": {},
     "output_type": "execute_result"
    }
   ],
   "source": [
    "kmeans_mean_cluster =pd.DataFrame(round(crime.groupby('cluster').mean(),1))\n",
    "kmeans_mean_cluster"
   ]
  },
  {
   "cell_type": "code",
   "execution_count": 363,
   "id": "e23fe08c",
   "metadata": {},
   "outputs": [
    {
     "data": {
      "text/plain": [
       "Text(0.5, 0, 'clusters')"
      ]
     },
     "execution_count": 363,
     "metadata": {},
     "output_type": "execute_result"
    },
    {
     "data": {
      "image/png": "[encoded data removed]",
      "text/plain": [
       "<Figure size 2160x720 with 1 Axes>"
      ]
     },
     "metadata": {},
     "output_type": "display_data"
    }
   ],
   "source": [
    "kmeans_mean_cluster.plot(kind='bar',stacked=True)\n",
    "plt.rcParams[\"figure.figsize\"]=(30,10)\n",
    "plt.title(\"cluster analysis\")\n",
    "plt.xlabel(\"clusters\")"
   ]
  },
  {
   "cell_type": "code",
   "execution_count": 366,
   "id": "da33c714",
   "metadata": {},
   "outputs": [
    {
     "ename": "KeyError",
     "evalue": "(array([False, False, False, ..., False, False, False]), 0)",
     "output_type": "error",
     "traceback": [
      "\u001b[1;31m---------------------------------------------------------------------------\u001b[0m",
      "\u001b[1;31mKeyError\u001b[0m                                  Traceback (most recent call last)",
      "\u001b[1;32m~\\AppData\\Local\\Temp/ipykernel_8756/2214617261.py\u001b[0m in \u001b[0;36m<module>\u001b[1;34m\u001b[0m\n\u001b[0;32m      3\u001b[0m \u001b[1;33m\u001b[0m\u001b[0m\n\u001b[0;32m      4\u001b[0m \u001b[1;33m\u001b[0m\u001b[0m\n\u001b[1;32m----> 5\u001b[1;33m \u001b[0mplt\u001b[0m\u001b[1;33m.\u001b[0m\u001b[0mscatter\u001b[0m\u001b[1;33m(\u001b[0m\u001b[0mdf_crime\u001b[0m\u001b[1;33m[\u001b[0m\u001b[0mY\u001b[0m\u001b[1;33m==\u001b[0m\u001b[1;36m0\u001b[0m\u001b[1;33m,\u001b[0m\u001b[1;36m0\u001b[0m\u001b[1;33m]\u001b[0m\u001b[1;33m,\u001b[0m\u001b[0mdf_crime\u001b[0m\u001b[1;33m[\u001b[0m\u001b[0mY\u001b[0m\u001b[1;33m==\u001b[0m\u001b[1;36m0\u001b[0m\u001b[1;33m,\u001b[0m\u001b[1;36m1\u001b[0m\u001b[1;33m]\u001b[0m\u001b[1;33m,\u001b[0m\u001b[0ms\u001b[0m\u001b[1;33m=\u001b[0m\u001b[1;36m50\u001b[0m\u001b[1;33m,\u001b[0m\u001b[0mc\u001b[0m\u001b[1;33m=\u001b[0m\u001b[1;34m'green'\u001b[0m\u001b[1;33m,\u001b[0m\u001b[0mlabel\u001b[0m\u001b[1;33m=\u001b[0m\u001b[1;34m'cluster 1'\u001b[0m\u001b[1;33m)\u001b[0m\u001b[1;33m\u001b[0m\u001b[1;33m\u001b[0m\u001b[0m\n\u001b[0m\u001b[0;32m      6\u001b[0m \u001b[1;33m\u001b[0m\u001b[0m\n\u001b[0;32m      7\u001b[0m \u001b[0mplt\u001b[0m\u001b[1;33m.\u001b[0m\u001b[0mscatter\u001b[0m\u001b[1;33m(\u001b[0m\u001b[0mkmeans\u001b[0m\u001b[1;33m.\u001b[0m\u001b[0mcluster_centers_\u001b[0m\u001b[1;33m[\u001b[0m\u001b[1;33m:\u001b[0m\u001b[1;33m,\u001b[0m\u001b[1;36m0\u001b[0m\u001b[1;33m]\u001b[0m\u001b[1;33m,\u001b[0m\u001b[0mkmeans\u001b[0m\u001b[1;33m.\u001b[0m\u001b[0mcluster_centers_\u001b[0m\u001b[1;33m[\u001b[0m\u001b[1;33m:\u001b[0m\u001b[1;33m,\u001b[0m\u001b[1;36m1\u001b[0m\u001b[1;33m]\u001b[0m\u001b[1;33m,\u001b[0m\u001b[0ms\u001b[0m\u001b[1;33m=\u001b[0m\u001b[1;36m300\u001b[0m\u001b[1;33m,\u001b[0m\u001b[0mc\u001b[0m\u001b[1;33m=\u001b[0m\u001b[1;34m'red'\u001b[0m\u001b[1;33m)\u001b[0m\u001b[1;33m\u001b[0m\u001b[1;33m\u001b[0m\u001b[0m\n",
      "\u001b[1;32m~\\anaconda3\\lib\\site-packages\\pandas\\core\\frame.py\u001b[0m in \u001b[0;36m__getitem__\u001b[1;34m(self, key)\u001b[0m\n\u001b[0;32m   3456\u001b[0m             \u001b[1;32mif\u001b[0m \u001b[0mself\u001b[0m\u001b[1;33m.\u001b[0m\u001b[0mcolumns\u001b[0m\u001b[1;33m.\u001b[0m\u001b[0mnlevels\u001b[0m \u001b[1;33m>\u001b[0m \u001b[1;36m1\u001b[0m\u001b[1;33m:\u001b[0m\u001b[1;33m\u001b[0m\u001b[1;33m\u001b[0m\u001b[0m\n\u001b[0;32m   3457\u001b[0m                 \u001b[1;32mreturn\u001b[0m \u001b[0mself\u001b[0m\u001b[1;33m.\u001b[0m\u001b[0m_getitem_multilevel\u001b[0m\u001b[1;33m(\u001b[0m\u001b[0mkey\u001b[0m\u001b[1;33m)\u001b[0m\u001b[1;33m\u001b[0m\u001b[1;33m\u001b[0m\u001b[0m\n\u001b[1;32m-> 3458\u001b[1;33m             \u001b[0mindexer\u001b[0m \u001b[1;33m=\u001b[0m \u001b[0mself\u001b[0m\u001b[1;33m.\u001b[0m\u001b[0mcolumns\u001b[0m\u001b[1;33m.\u001b[0m\u001b[0mget_loc\u001b[0m\u001b[1;33m(\u001b[0m\u001b[0mkey\u001b[0m\u001b[1;33m)\u001b[0m\u001b[1;33m\u001b[0m\u001b[1;33m\u001b[0m\u001b[0m\n\u001b[0m\u001b[0;32m   3459\u001b[0m             \u001b[1;32mif\u001b[0m \u001b[0mis_integer\u001b[0m\u001b[1;33m(\u001b[0m\u001b[0mindexer\u001b[0m\u001b[1;33m)\u001b[0m\u001b[1;33m:\u001b[0m\u001b[1;33m\u001b[0m\u001b[1;33m\u001b[0m\u001b[0m\n\u001b[0;32m   3460\u001b[0m                 \u001b[0mindexer\u001b[0m \u001b[1;33m=\u001b[0m \u001b[1;33m[\u001b[0m\u001b[0mindexer\u001b[0m\u001b[1;33m]\u001b[0m\u001b[1;33m\u001b[0m\u001b[1;33m\u001b[0m\u001b[0m\n",
      "\u001b[1;32m~\\anaconda3\\lib\\site-packages\\pandas\\core\\indexes\\range.py\u001b[0m in \u001b[0;36mget_loc\u001b[1;34m(self, key, method, tolerance)\u001b[0m\n\u001b[0;32m    386\u001b[0m                 \u001b[1;32mexcept\u001b[0m \u001b[0mValueError\u001b[0m \u001b[1;32mas\u001b[0m \u001b[0merr\u001b[0m\u001b[1;33m:\u001b[0m\u001b[1;33m\u001b[0m\u001b[1;33m\u001b[0m\u001b[0m\n\u001b[0;32m    387\u001b[0m                     \u001b[1;32mraise\u001b[0m \u001b[0mKeyError\u001b[0m\u001b[1;33m(\u001b[0m\u001b[0mkey\u001b[0m\u001b[1;33m)\u001b[0m \u001b[1;32mfrom\u001b[0m \u001b[0merr\u001b[0m\u001b[1;33m\u001b[0m\u001b[1;33m\u001b[0m\u001b[0m\n\u001b[1;32m--> 388\u001b[1;33m             \u001b[1;32mraise\u001b[0m \u001b[0mKeyError\u001b[0m\u001b[1;33m(\u001b[0m\u001b[0mkey\u001b[0m\u001b[1;33m)\u001b[0m\u001b[1;33m\u001b[0m\u001b[1;33m\u001b[0m\u001b[0m\n\u001b[0m\u001b[0;32m    389\u001b[0m         \u001b[1;32mreturn\u001b[0m \u001b[0msuper\u001b[0m\u001b[1;33m(\u001b[0m\u001b[1;33m)\u001b[0m\u001b[1;33m.\u001b[0m\u001b[0mget_loc\u001b[0m\u001b[1;33m(\u001b[0m\u001b[0mkey\u001b[0m\u001b[1;33m,\u001b[0m \u001b[0mmethod\u001b[0m\u001b[1;33m=\u001b[0m\u001b[0mmethod\u001b[0m\u001b[1;33m,\u001b[0m \u001b[0mtolerance\u001b[0m\u001b[1;33m=\u001b[0m\u001b[0mtolerance\u001b[0m\u001b[1;33m)\u001b[0m\u001b[1;33m\u001b[0m\u001b[1;33m\u001b[0m\u001b[0m\n\u001b[0;32m    390\u001b[0m \u001b[1;33m\u001b[0m\u001b[0m\n",
      "\u001b[1;31mKeyError\u001b[0m: (array([False, False, False, ..., False, False, False]), 0)"
     ]
    }
   ],
   "source": [
    "kmeans=KMeans(n_clusters=4, init='random',max_iter=300, n_init=10,random_state=0)\n",
    "pred_y=kmeans.fit_predict(df_crime)\n",
    "\n",
    "\n",
    "plt.scatter(df_crime[Y==0,0],df_crime[Y==0,1],s=50,c='green',label='cluster 1')\n",
    "\n",
    "plt.scatter(kmeans.cluster_centers_[:,0],kmeans.cluster_centers_[:,1],s=300,c='red')\n",
    "plt.show()"
   ]
  },
  {
   "cell_type": "code",
   "execution_count": 367,
   "id": "95989428",
   "metadata": {},
   "outputs": [
    {
     "ename": "KeyError",
     "evalue": "'MURDER'",
     "output_type": "error",
     "traceback": [
      "\u001b[1;31m---------------------------------------------------------------------------\u001b[0m",
      "\u001b[1;31mKeyError\u001b[0m                                  Traceback (most recent call last)",
      "\u001b[1;32m~\\AppData\\Local\\Temp/ipykernel_8756/3961352550.py\u001b[0m in \u001b[0;36m<module>\u001b[1;34m\u001b[0m\n\u001b[0;32m      1\u001b[0m \u001b[0mplt\u001b[0m\u001b[1;33m.\u001b[0m\u001b[0mfigure\u001b[0m\u001b[1;33m(\u001b[0m\u001b[0mfigsize\u001b[0m\u001b[1;33m=\u001b[0m\u001b[1;33m(\u001b[0m\u001b[1;36m12\u001b[0m\u001b[1;33m,\u001b[0m\u001b[1;36m6\u001b[0m\u001b[1;33m)\u001b[0m\u001b[1;33m)\u001b[0m\u001b[1;33m\u001b[0m\u001b[1;33m\u001b[0m\u001b[0m\n\u001b[1;32m----> 2\u001b[1;33m \u001b[0msns\u001b[0m\u001b[1;33m.\u001b[0m\u001b[0mscatterplot\u001b[0m\u001b[1;33m(\u001b[0m\u001b[0mx\u001b[0m\u001b[1;33m=\u001b[0m\u001b[0mdf_crime\u001b[0m\u001b[1;33m[\u001b[0m\u001b[1;34m'MURDER'\u001b[0m\u001b[1;33m]\u001b[0m\u001b[1;33m,\u001b[0m \u001b[0my\u001b[0m\u001b[1;33m=\u001b[0m\u001b[0mdf_crime\u001b[0m\u001b[1;33m[\u001b[0m\u001b[1;34m'RAPE'\u001b[0m\u001b[1;33m]\u001b[0m\u001b[1;33m,\u001b[0m\u001b[0mhue\u001b[0m\u001b[1;33m=\u001b[0m\u001b[0my_kmeans1\u001b[0m\u001b[1;33m)\u001b[0m\u001b[1;33m\u001b[0m\u001b[1;33m\u001b[0m\u001b[0m\n\u001b[0m",
      "\u001b[1;32m~\\anaconda3\\lib\\site-packages\\pandas\\core\\frame.py\u001b[0m in \u001b[0;36m__getitem__\u001b[1;34m(self, key)\u001b[0m\n\u001b[0;32m   3456\u001b[0m             \u001b[1;32mif\u001b[0m \u001b[0mself\u001b[0m\u001b[1;33m.\u001b[0m\u001b[0mcolumns\u001b[0m\u001b[1;33m.\u001b[0m\u001b[0mnlevels\u001b[0m \u001b[1;33m>\u001b[0m \u001b[1;36m1\u001b[0m\u001b[1;33m:\u001b[0m\u001b[1;33m\u001b[0m\u001b[1;33m\u001b[0m\u001b[0m\n\u001b[0;32m   3457\u001b[0m                 \u001b[1;32mreturn\u001b[0m \u001b[0mself\u001b[0m\u001b[1;33m.\u001b[0m\u001b[0m_getitem_multilevel\u001b[0m\u001b[1;33m(\u001b[0m\u001b[0mkey\u001b[0m\u001b[1;33m)\u001b[0m\u001b[1;33m\u001b[0m\u001b[1;33m\u001b[0m\u001b[0m\n\u001b[1;32m-> 3458\u001b[1;33m             \u001b[0mindexer\u001b[0m \u001b[1;33m=\u001b[0m \u001b[0mself\u001b[0m\u001b[1;33m.\u001b[0m\u001b[0mcolumns\u001b[0m\u001b[1;33m.\u001b[0m\u001b[0mget_loc\u001b[0m\u001b[1;33m(\u001b[0m\u001b[0mkey\u001b[0m\u001b[1;33m)\u001b[0m\u001b[1;33m\u001b[0m\u001b[1;33m\u001b[0m\u001b[0m\n\u001b[0m\u001b[0;32m   3459\u001b[0m             \u001b[1;32mif\u001b[0m \u001b[0mis_integer\u001b[0m\u001b[1;33m(\u001b[0m\u001b[0mindexer\u001b[0m\u001b[1;33m)\u001b[0m\u001b[1;33m:\u001b[0m\u001b[1;33m\u001b[0m\u001b[1;33m\u001b[0m\u001b[0m\n\u001b[0;32m   3460\u001b[0m                 \u001b[0mindexer\u001b[0m \u001b[1;33m=\u001b[0m \u001b[1;33m[\u001b[0m\u001b[0mindexer\u001b[0m\u001b[1;33m]\u001b[0m\u001b[1;33m\u001b[0m\u001b[1;33m\u001b[0m\u001b[0m\n",
      "\u001b[1;32m~\\anaconda3\\lib\\site-packages\\pandas\\core\\indexes\\range.py\u001b[0m in \u001b[0;36mget_loc\u001b[1;34m(self, key, method, tolerance)\u001b[0m\n\u001b[0;32m    386\u001b[0m                 \u001b[1;32mexcept\u001b[0m \u001b[0mValueError\u001b[0m \u001b[1;32mas\u001b[0m \u001b[0merr\u001b[0m\u001b[1;33m:\u001b[0m\u001b[1;33m\u001b[0m\u001b[1;33m\u001b[0m\u001b[0m\n\u001b[0;32m    387\u001b[0m                     \u001b[1;32mraise\u001b[0m \u001b[0mKeyError\u001b[0m\u001b[1;33m(\u001b[0m\u001b[0mkey\u001b[0m\u001b[1;33m)\u001b[0m \u001b[1;32mfrom\u001b[0m \u001b[0merr\u001b[0m\u001b[1;33m\u001b[0m\u001b[1;33m\u001b[0m\u001b[0m\n\u001b[1;32m--> 388\u001b[1;33m             \u001b[1;32mraise\u001b[0m \u001b[0mKeyError\u001b[0m\u001b[1;33m(\u001b[0m\u001b[0mkey\u001b[0m\u001b[1;33m)\u001b[0m\u001b[1;33m\u001b[0m\u001b[1;33m\u001b[0m\u001b[0m\n\u001b[0m\u001b[0;32m    389\u001b[0m         \u001b[1;32mreturn\u001b[0m \u001b[0msuper\u001b[0m\u001b[1;33m(\u001b[0m\u001b[1;33m)\u001b[0m\u001b[1;33m.\u001b[0m\u001b[0mget_loc\u001b[0m\u001b[1;33m(\u001b[0m\u001b[0mkey\u001b[0m\u001b[1;33m,\u001b[0m \u001b[0mmethod\u001b[0m\u001b[1;33m=\u001b[0m\u001b[0mmethod\u001b[0m\u001b[1;33m,\u001b[0m \u001b[0mtolerance\u001b[0m\u001b[1;33m=\u001b[0m\u001b[0mtolerance\u001b[0m\u001b[1;33m)\u001b[0m\u001b[1;33m\u001b[0m\u001b[1;33m\u001b[0m\u001b[0m\n\u001b[0;32m    390\u001b[0m \u001b[1;33m\u001b[0m\u001b[0m\n",
      "\u001b[1;31mKeyError\u001b[0m: 'MURDER'"
     ]
    },
    {
     "data": {
      "text/plain": [
       "<Figure size 864x432 with 0 Axes>"
      ]
     },
     "metadata": {},
     "output_type": "display_data"
    }
   ],
   "source": [
    "plt.figure(figsize=(12,6))\n",
    "sns.scatterplot(x=df_crime['MURDER'], y=df_crime['RAPE'],hue=y_kmeans1)"
   ]
  },
  {
   "cell_type": "code",
   "execution_count": null,
   "id": "cbca9960",
   "metadata": {},
   "outputs": [],
   "source": []
  },
  {
   "cell_type": "code",
   "execution_count": null,
   "id": "f36976dc",
   "metadata": {},
   "outputs": [],
   "source": []
  },
  {
   "cell_type": "code",
   "execution_count": null,
   "id": "c4d841d1",
   "metadata": {},
   "outputs": [],
   "source": [
    "#crime=crime[['STATE/UT','YEAR','MURDER','KIDNAPPING & ABDUCTION','THEFT']].copy()\n",
    "#crime"
   ]
  },
  {
   "cell_type": "code",
   "execution_count": null,
   "id": "965f06b0",
   "metadata": {},
   "outputs": [],
   "source": [
    "\n",
    "g = pd.DataFrame(crime.groupby(['YEAR']).sum().reset_index())\n",
    "g"
   ]
  },
  {
   "cell_type": "code",
   "execution_count": null,
   "id": "031dcbd3",
   "metadata": {},
   "outputs": [],
   "source": [
    "rape = pd.DataFrame(crime.groupby(['YEAR'])['RAPE'].sum().reset_index())\n",
    "rape.columns = ['YEAR','RAPE']\n",
    "rape"
   ]
  },
  {
   "cell_type": "code",
   "execution_count": null,
   "id": "51c66353",
   "metadata": {},
   "outputs": [],
   "source": [
    "plt.scatter(rape.YEAR,rape['RAPE'])\n",
    "plt.xlabel('YEAR')\n",
    "plt.ylabel('RAPE')"
   ]
  },
  {
   "cell_type": "code",
   "execution_count": null,
   "id": "ba84c789",
   "metadata": {},
   "outputs": [],
   "source": [
    "km = KMeans(n_clusters=3)\n",
    "y_predicted = km.fit_predict(rape[['YEAR','RAPE']])\n",
    "y_predicted"
   ]
  },
  {
   "cell_type": "code",
   "execution_count": null,
   "id": "8d7f034b",
   "metadata": {},
   "outputs": [],
   "source": [
    "rape['cluster']=y_predicted\n",
    "rape.head()"
   ]
  },
  {
   "cell_type": "code",
   "execution_count": null,
   "id": "9b90889c",
   "metadata": {},
   "outputs": [],
   "source": [
    "km.cluster_centers_"
   ]
  },
  {
   "cell_type": "code",
   "execution_count": null,
   "id": "918a1ae1",
   "metadata": {},
   "outputs": [],
   "source": [
    "df1 = rape[rape.cluster==0]\n",
    "df2 = rape[rape.cluster==1]\n",
    "df3 = rape[rape.cluster==2]\n",
    "\n",
    "plt.scatter(df1.YEAR,df1['RAPE'],color='green')\n",
    "plt.scatter(df2.YEAR,df2['RAPE'],color='red')\n",
    "plt.scatter(df3.YEAR,df3['RAPE'],color='black')\n",
    "\n",
    "plt.scatter(km.cluster_centers_[:,0],km.cluster_centers_[:,1],color='purple',marker='*',label='centroid')\n",
    "plt.xlabel('YEAR')\n",
    "plt.ylabel('RAPE')\n",
    "plt.legend()"
   ]
  },
  {
   "cell_type": "markdown",
   "id": "82cc04e6",
   "metadata": {},
   "source": [
    "Preprocessing using min max scaler"
   ]
  },
  {
   "cell_type": "code",
   "execution_count": null,
   "id": "7a7c2326",
   "metadata": {},
   "outputs": [],
   "source": [
    "scaler = MinMaxScaler()\n",
    "\n",
    "scaler.fit(rape[['RAPE']])\n",
    "rape['RAPE'] = scaler.transform(rape[['RAPE']])"
   ]
  },
  {
   "cell_type": "code",
   "execution_count": null,
   "id": "68d75951",
   "metadata": {},
   "outputs": [],
   "source": [
    "rape"
   ]
  },
  {
   "cell_type": "code",
   "execution_count": null,
   "id": "ebc32d87",
   "metadata": {},
   "outputs": [],
   "source": [
    "plt.scatter(rape.YEAR,rape['RAPE'])"
   ]
  },
  {
   "cell_type": "code",
   "execution_count": null,
   "id": "78036ac8",
   "metadata": {},
   "outputs": [],
   "source": [
    "km = KMeans(n_clusters=3)\n",
    "y_predicted = km.fit_predict(rape[['YEAR','RAPE']])\n",
    "y_predicted"
   ]
  },
  {
   "cell_type": "code",
   "execution_count": null,
   "id": "c3f1d510",
   "metadata": {},
   "outputs": [],
   "source": [
    "rape['cluster']=y_predicted\n",
    "rape.head()"
   ]
  },
  {
   "cell_type": "code",
   "execution_count": null,
   "id": "21c5c97f",
   "metadata": {},
   "outputs": [],
   "source": [
    "km.cluster_centers_"
   ]
  },
  {
   "cell_type": "code",
   "execution_count": null,
   "id": "ddd5098d",
   "metadata": {},
   "outputs": [],
   "source": [
    "df1 = rape[rape.cluster==0]\n",
    "df2 = rape[rape.cluster==1]\n",
    "df3 = rape[rape.cluster==2]\n",
    "\n",
    "plt.scatter(df1.YEAR,df1['RAPE'],color='green')\n",
    "plt.scatter(df2.YEAR,df2['RAPE'],color='red')\n",
    "plt.scatter(df3.YEAR,df3['RAPE'],color='black')\n",
    "\n",
    "plt.scatter(km.cluster_centers_[:,0],km.cluster_centers_[:,1],color='purple',marker='*',label='centroid')\n",
    "plt.xlabel('YEAR')\n",
    "plt.ylabel('RAPE')\n",
    "plt.legend()"
   ]
  },
  {
   "cell_type": "code",
   "execution_count": null,
   "id": "d5225026",
   "metadata": {},
   "outputs": [],
   "source": [
    "sse = []\n",
    "k_rng = range(1,10)\n",
    "for k in k_rng:\n",
    "    km = KMeans(n_clusters=k)\n",
    "    km.fit(rape[['YEAR','RAPE']])\n",
    "    sse.append(km.inertia_)"
   ]
  },
  {
   "cell_type": "code",
   "execution_count": null,
   "id": "919bf316",
   "metadata": {},
   "outputs": [],
   "source": [
    "plt.xlabel('K')\n",
    "plt.ylabel('Sum of squared error')\n",
    "plt.plot(k_rng,sse)"
   ]
  },
  {
   "cell_type": "code",
   "execution_count": null,
   "id": "0578a694",
   "metadata": {},
   "outputs": [],
   "source": [
    "fig = px.bar(rape,x='YEAR',y='RAPE',color_discrete_sequence=['blue'])\n",
    "fig.show()"
   ]
  },
  {
   "cell_type": "code",
   "execution_count": null,
   "id": "f687c8b0",
   "metadata": {},
   "outputs": [],
   "source": [
    "rape_state = pd.DataFrame(crime.groupby(['STATE/UT'])['RAPE'].sum().reset_index())\n",
    "rape_state.columns = ['STATE/UT','RAPE']\n",
    "rape_state"
   ]
  },
  {
   "cell_type": "code",
   "execution_count": null,
   "id": "3ca046da",
   "metadata": {},
   "outputs": [],
   "source": [
    "rape_state.head(10)"
   ]
  },
  {
   "cell_type": "code",
   "execution_count": null,
   "id": "fd2f8999",
   "metadata": {},
   "outputs": [],
   "source": [
    "fig = px.bar(rape_state,x='STATE/UT',y='RAPE',color_discrete_sequence=['blue'])\n",
    "fig.show()"
   ]
  },
  {
   "cell_type": "markdown",
   "id": "30ecddba",
   "metadata": {},
   "source": [
    "MURDER"
   ]
  },
  {
   "cell_type": "code",
   "execution_count": null,
   "id": "f685babe",
   "metadata": {},
   "outputs": [],
   "source": [
    "murder = pd.DataFrame(crime.groupby(['YEAR'])['MURDER'].sum().reset_index())\n",
    "murder.columns = ['YEAR','MURDER']\n",
    "murder"
   ]
  },
  {
   "cell_type": "code",
   "execution_count": null,
   "id": "22d4c18b",
   "metadata": {},
   "outputs": [],
   "source": []
  },
  {
   "cell_type": "code",
   "execution_count": null,
   "id": "31e14350",
   "metadata": {},
   "outputs": [],
   "source": []
  },
  {
   "cell_type": "code",
   "execution_count": null,
   "id": "248f97ea",
   "metadata": {},
   "outputs": [],
   "source": []
  },
  {
   "cell_type": "code",
   "execution_count": null,
   "id": "9fb1a533",
   "metadata": {},
   "outputs": [],
   "source": []
  },
  {
   "cell_type": "code",
   "execution_count": null,
   "id": "d31d43f2",
   "metadata": {},
   "outputs": [],
   "source": []
  },
  {
   "cell_type": "code",
   "execution_count": null,
   "id": "91c58dd9",
   "metadata": {},
   "outputs": [],
   "source": []
  },
  {
   "cell_type": "code",
   "execution_count": null,
   "id": "3b44014b",
   "metadata": {},
   "outputs": [],
   "source": []
  },
  {
   "cell_type": "code",
   "execution_count": null,
   "id": "b1832716",
   "metadata": {},
   "outputs": [],
   "source": []
  },
  {
   "cell_type": "code",
   "execution_count": null,
   "id": "128f7c32",
   "metadata": {},
   "outputs": [],
   "source": [
    "fig = px.bar(murder,x='YEAR',y='MURDER',color_discrete_sequence=['blue'])\n",
    "fig.show()"
   ]
  },
  {
   "cell_type": "code",
   "execution_count": null,
   "id": "2f4ab750",
   "metadata": {},
   "outputs": [],
   "source": []
  }
 ],
 "metadata": {
  "kernelspec": {
   "display_name": "Python 3 (ipykernel)",
   "language": "python",
   "name": "python3"
  },
  "language_info": {
   "codemirror_mode": {
    "name": "ipython",
    "version": 3
   },
   "file_extension": ".py",
   "mimetype": "text/x-python",
   "name": "python",
   "nbconvert_exporter": "python",
   "pygments_lexer": "ipython3",
   "version": "3.9.7"
  }
 },
 "nbformat": 4,
 "nbformat_minor": 5
}
